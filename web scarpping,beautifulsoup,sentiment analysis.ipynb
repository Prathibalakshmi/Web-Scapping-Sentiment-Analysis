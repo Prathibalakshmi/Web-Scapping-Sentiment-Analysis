{
 "cells": [
  {
   "cell_type": "code",
   "execution_count": 1,
   "id": "ea942650",
   "metadata": {},
   "outputs": [],
   "source": [
    "import os\n",
    "import requests # this will connect with HTTPS and needs to have internet\n",
    "from bs4 import BeautifulSoup # Web Scapping tool\n"
   ]
  },
  {
   "cell_type": "code",
   "execution_count": 2,
   "id": "e4492011",
   "metadata": {},
   "outputs": [],
   "source": [
    "# Assiassigning url\n",
    "url = \"https://www.python.org/~guido/\""
   ]
  },
  {
   "cell_type": "code",
   "execution_count": 4,
   "id": "9a4f70d2",
   "metadata": {},
   "outputs": [
    {
     "data": {
      "text/plain": [
       "requests.models.Response"
      ]
     },
     "execution_count": 4,
     "metadata": {},
     "output_type": "execute_result"
    }
   ],
   "source": [
    "# requesting data from server\n",
    "r=requests.get(url)\n",
    "type(r)"
   ]
  },
  {
   "cell_type": "code",
   "execution_count": 6,
   "id": "4733c49f",
   "metadata": {},
   "outputs": [
    {
     "data": {
      "text/plain": [
       "str"
      ]
     },
     "execution_count": 6,
     "metadata": {},
     "output_type": "execute_result"
    }
   ],
   "source": [
    "#Saving the text part of webpage\n",
    "html_doc=r.text\n",
    "type(html_doc)"
   ]
  },
  {
   "cell_type": "code",
   "execution_count": 17,
   "id": "4776ad54",
   "metadata": {},
   "outputs": [
    {
     "data": {
      "text/plain": [
       "<html>\n",
       "<head>\n",
       "<title>Guido's Personal Home Page</title>\n",
       "</head>\n",
       "<body bgcolor=\"#FFFFFF\" text=\"#000000\">\n",
       "<!-- Built from main -->\n",
       "<h1>\n",
       "<a href=\"pics.html\"><img border=\"0\" src=\"images/IMG_2192.jpg\"/></a>\n",
       "Guido van Rossum - Personal Home Page\n",
       "<a href=\"pics.html\"><img border=\"0\" height=\"216\" src=\"images/guido-headshot-2019.jpg\" width=\"270\"/></a>\n",
       "</h1>\n",
       "<p><a href=\"http://www.washingtonpost.com/wp-srv/business/longterm/microsoft/stories/1998/raymond120398.htm\"><i>\"Gawky and proud of it.\"</i></a>\n",
       "</p><h3><a href=\"images/df20000406.jpg\">Who I Am</a></h3>\n",
       "<p>Read\n",
       "my <a href=\"http://neopythonic.blogspot.com/2016/04/kings-day-speech.html\">\"King's\n",
       "Day Speech\"</a> for some inspiration.\n",
       "\n",
       "</p><p>I am the author of the <a href=\"http://www.python.org\">Python</a>\n",
       "programming language.  See also my <a href=\"Resume.html\">resume</a>\n",
       "and my <a href=\"Publications.html\">publications list</a>, a <a href=\"bio.html\">brief bio</a>, assorted <a href=\"http://legacy.python.org/doc/essays/\">writings</a>, <a href=\"http://legacy.python.org/doc/essays/ppt/\">presentations</a> and <a href=\"interviews.html\">interviews</a> (all about Python), some\n",
       "<a href=\"pics.html\">pictures of me</a>,\n",
       "<a href=\"http://neopythonic.blogspot.com\">my new blog</a>, and\n",
       "my <a href=\"http://www.artima.com/weblogs/index.jsp?blogger=12088\">old\n",
       "blog</a> on Artima.com.  I am\n",
       "<a href=\"https://twitter.com/gvanrossum\">@gvanrossum</a> on Twitter.\n",
       "\n",
       "</p><p>I am currently a Distinguished Engineer at Microsoft.\n",
       "I have worked for Dropbox, Google, Elemental Security, Zope\n",
       "Corporation, BeOpen.com, CNRI, CWI, and SARA.  (See\n",
       "my <a href=\"Resume.html\">resume</a>.)  I created Python while at CWI.\n",
       "\n",
       "</p><h3>How to Reach Me</h3>\n",
       "<p>You can send email for me to guido (at) python.org.\n",
       "I read everything sent there, but I receive too much email to respond\n",
       "to everything.\n",
       "\n",
       "</p><h3>My Name</h3>\n",
       "<p>My name often poses difficulties for Americans.\n",
       "\n",
       "</p><p><b>Pronunciation:</b> in Dutch, the \"G\" in Guido is a hard G,\n",
       "pronounced roughly like the \"ch\" in Scottish \"loch\".  (Listen to the\n",
       "<a href=\"guido.au\">sound clip</a>.)  However, if you're\n",
       "American, you may also pronounce it as the Italian \"Guido\".  I'm not\n",
       "too worried about the associations with mob assassins that some people\n",
       "have. :-)\n",
       "\n",
       "</p><p><b>Spelling:</b> my last name is two words, and I'd like to keep it\n",
       "that way, the spelling on some of my credit cards notwithstanding.\n",
       "Dutch spelling rules dictate that when used in combination with my\n",
       "first name, \"van\" is not capitalized: \"Guido van Rossum\".  But when my\n",
       "last name is used alone to refer to me, it is capitalized, for\n",
       "example: \"As usual, Van Rossum was right.\"\n",
       "\n",
       "</p><p><b>Alphabetization:</b> in America, I show up in the alphabet under\n",
       "\"V\".  But in Europe, I show up under \"R\".  And some of my friends put\n",
       "me under \"G\" in their address book...\n",
       "\n",
       "\n",
       "</p><h3>More Hyperlinks</h3>\n",
       "<ul>\n",
       "<li>Here's a collection of <a href=\"http://legacy.python.org/doc/essays/\">essays</a> relating to Python\n",
       "that I've written, including the foreword I wrote for Mark Lutz' book\n",
       "\"Programming Python\".<p>\n",
       "</p></li><li>I own the official <a href=\"images/license.jpg\"><img align=\"center\" border=\"0\" height=\"75\" src=\"images/license_thumb.jpg\" width=\"100\"/>\n",
       "Python license.</a><p>\n",
       "</p></li></ul>\n",
       "<h3>The Audio File Formats FAQ</h3>\n",
       "<p>I was the original creator and maintainer of the Audio File Formats\n",
       "FAQ.  It is now maintained by Chris Bagwell\n",
       "at <a href=\"http://www.cnpbagwell.com/audio-faq\">http://www.cnpbagwell.com/audio-faq</a>.  And here is a link to\n",
       "<a href=\"http://sox.sourceforge.net/\">SOX</a>, to which I contributed\n",
       "some early code.\n",
       "\n",
       "\n",
       "\n",
       "</p><hr/>\n",
       "<a href=\"images/internetdog.gif\">\"On the Internet, nobody knows you're\n",
       "a dog.\"</a>\n",
       "<hr/>\n",
       "</body>\n",
       "</html>"
      ]
     },
     "execution_count": 17,
     "metadata": {},
     "output_type": "execute_result"
    }
   ],
   "source": [
    "# Creating beautiful soup element\n",
    "soup = BeautifulSoup(r.content)\n",
    "soup"
   ]
  },
  {
   "cell_type": "code",
   "execution_count": 12,
   "id": "e52aa1b4",
   "metadata": {},
   "outputs": [
    {
     "data": {
      "text/plain": [
       "requests.models.Response"
      ]
     },
     "execution_count": 12,
     "metadata": {},
     "output_type": "execute_result"
    }
   ],
   "source": [
    "type(r)"
   ]
  },
  {
   "cell_type": "code",
   "execution_count": 20,
   "id": "7d562e9a",
   "metadata": {},
   "outputs": [
    {
     "name": "stdout",
     "output_type": "stream",
     "text": [
      "<html>\n",
      " <head>\n",
      "  <title>\n",
      "   Guido's Personal Home Page\n",
      "  </title>\n",
      " </head>\n",
      " <body bgcolor=\"#FFFFFF\" text=\"#000000\">\n",
      "  <!-- Built from main -->\n",
      "  <h1>\n",
      "   <a href=\"pics.html\">\n",
      "    <img border=\"0\" src=\"images/IMG_2192.jpg\"/>\n",
      "   </a>\n",
      "   Guido van Rossum - Personal Home Page\n",
      "   <a href=\"pics.html\">\n",
      "    <img border=\"0\" height=\"216\" src=\"images/guido-headshot-2019.jpg\" width=\"270\"/>\n",
      "   </a>\n",
      "  </h1>\n",
      "  <p>\n",
      "   <a href=\"http://www.washingtonpost.com/wp-srv/business/longterm/microsoft/stories/1998/raymond120398.htm\">\n",
      "    <i>\n",
      "     \"Gawky and proud of it.\"\n",
      "    </i>\n",
      "   </a>\n",
      "  </p>\n",
      "  <h3>\n",
      "   <a href=\"images/df20000406.jpg\">\n",
      "    Who I Am\n",
      "   </a>\n",
      "  </h3>\n",
      "  <p>\n",
      "   Read\n",
      "my\n",
      "   <a href=\"http://neopythonic.blogspot.com/2016/04/kings-day-speech.html\">\n",
      "    \"King's\n",
      "Day Speech\"\n",
      "   </a>\n",
      "   for some inspiration.\n",
      "  </p>\n",
      "  <p>\n",
      "   I am the author of the\n",
      "   <a href=\"http://www.python.org\">\n",
      "    Python\n",
      "   </a>\n",
      "   programming language.  See also my\n",
      "   <a href=\"Resume.html\">\n",
      "    resume\n",
      "   </a>\n",
      "   and my\n",
      "   <a href=\"Publications.html\">\n",
      "    publications list\n",
      "   </a>\n",
      "   , a\n",
      "   <a href=\"bio.html\">\n",
      "    brief bio\n",
      "   </a>\n",
      "   , assorted\n",
      "   <a href=\"http://legacy.python.org/doc/essays/\">\n",
      "    writings\n",
      "   </a>\n",
      "   ,\n",
      "   <a href=\"http://legacy.python.org/doc/essays/ppt/\">\n",
      "    presentations\n",
      "   </a>\n",
      "   and\n",
      "   <a href=\"interviews.html\">\n",
      "    interviews\n",
      "   </a>\n",
      "   (all about Python), some\n",
      "   <a href=\"pics.html\">\n",
      "    pictures of me\n",
      "   </a>\n",
      "   ,\n",
      "   <a href=\"http://neopythonic.blogspot.com\">\n",
      "    my new blog\n",
      "   </a>\n",
      "   , and\n",
      "my\n",
      "   <a href=\"http://www.artima.com/weblogs/index.jsp?blogger=12088\">\n",
      "    old\n",
      "blog\n",
      "   </a>\n",
      "   on Artima.com.  I am\n",
      "   <a href=\"https://twitter.com/gvanrossum\">\n",
      "    @gvanrossum\n",
      "   </a>\n",
      "   on Twitter.\n",
      "  </p>\n",
      "  <p>\n",
      "   I am currently a Distinguished Engineer at Microsoft.\n",
      "I have worked for Dropbox, Google, Elemental Security, Zope\n",
      "Corporation, BeOpen.com, CNRI, CWI, and SARA.  (See\n",
      "my\n",
      "   <a href=\"Resume.html\">\n",
      "    resume\n",
      "   </a>\n",
      "   .)  I created Python while at CWI.\n",
      "  </p>\n",
      "  <h3>\n",
      "   How to Reach Me\n",
      "  </h3>\n",
      "  <p>\n",
      "   You can send email for me to guido (at) python.org.\n",
      "I read everything sent there, but I receive too much email to respond\n",
      "to everything.\n",
      "  </p>\n",
      "  <h3>\n",
      "   My Name\n",
      "  </h3>\n",
      "  <p>\n",
      "   My name often poses difficulties for Americans.\n",
      "  </p>\n",
      "  <p>\n",
      "   <b>\n",
      "    Pronunciation:\n",
      "   </b>\n",
      "   in Dutch, the \"G\" in Guido is a hard G,\n",
      "pronounced roughly like the \"ch\" in Scottish \"loch\".  (Listen to the\n",
      "   <a href=\"guido.au\">\n",
      "    sound clip\n",
      "   </a>\n",
      "   .)  However, if you're\n",
      "American, you may also pronounce it as the Italian \"Guido\".  I'm not\n",
      "too worried about the associations with mob assassins that some people\n",
      "have. :-)\n",
      "  </p>\n",
      "  <p>\n",
      "   <b>\n",
      "    Spelling:\n",
      "   </b>\n",
      "   my last name is two words, and I'd like to keep it\n",
      "that way, the spelling on some of my credit cards notwithstanding.\n",
      "Dutch spelling rules dictate that when used in combination with my\n",
      "first name, \"van\" is not capitalized: \"Guido van Rossum\".  But when my\n",
      "last name is used alone to refer to me, it is capitalized, for\n",
      "example: \"As usual, Van Rossum was right.\"\n",
      "  </p>\n",
      "  <p>\n",
      "   <b>\n",
      "    Alphabetization:\n",
      "   </b>\n",
      "   in America, I show up in the alphabet under\n",
      "\"V\".  But in Europe, I show up under \"R\".  And some of my friends put\n",
      "me under \"G\" in their address book...\n",
      "  </p>\n",
      "  <h3>\n",
      "   More Hyperlinks\n",
      "  </h3>\n",
      "  <ul>\n",
      "   <li>\n",
      "    Here's a collection of\n",
      "    <a href=\"http://legacy.python.org/doc/essays/\">\n",
      "     essays\n",
      "    </a>\n",
      "    relating to Python\n",
      "that I've written, including the foreword I wrote for Mark Lutz' book\n",
      "\"Programming Python\".\n",
      "    <p>\n",
      "    </p>\n",
      "   </li>\n",
      "   <li>\n",
      "    I own the official\n",
      "    <a href=\"images/license.jpg\">\n",
      "     <img align=\"center\" border=\"0\" height=\"75\" src=\"images/license_thumb.jpg\" width=\"100\"/>\n",
      "     Python license.\n",
      "    </a>\n",
      "    <p>\n",
      "    </p>\n",
      "   </li>\n",
      "  </ul>\n",
      "  <h3>\n",
      "   The Audio File Formats FAQ\n",
      "  </h3>\n",
      "  <p>\n",
      "   I was the original creator and maintainer of the Audio File Formats\n",
      "FAQ.  It is now maintained by Chris Bagwell\n",
      "at\n",
      "   <a href=\"http://www.cnpbagwell.com/audio-faq\">\n",
      "    http://www.cnpbagwell.com/audio-faq\n",
      "   </a>\n",
      "   .  And here is a link to\n",
      "   <a href=\"http://sox.sourceforge.net/\">\n",
      "    SOX\n",
      "   </a>\n",
      "   , to which I contributed\n",
      "some early code.\n",
      "  </p>\n",
      "  <hr/>\n",
      "  <a href=\"images/internetdog.gif\">\n",
      "   \"On the Internet, nobody knows you're\n",
      "a dog.\"\n",
      "  </a>\n",
      "  <hr/>\n",
      " </body>\n",
      "</html>\n"
     ]
    }
   ],
   "source": [
    "# Prettify() function in BeautifulSoup will enable us to view how the tags are\n",
    "\n",
    "#nested in the document.\n",
    "print(soup.prettify())"
   ]
  },
  {
   "cell_type": "code",
   "execution_count": 21,
   "id": "3fbda745",
   "metadata": {},
   "outputs": [
    {
     "data": {
      "text/plain": [
       "str"
      ]
     },
     "execution_count": 21,
     "metadata": {},
     "output_type": "execute_result"
    }
   ],
   "source": [
    "pretty_soup = soup.prettify()\n",
    "type(pretty_soup)"
   ]
  },
  {
   "cell_type": "code",
   "execution_count": 22,
   "id": "de049145",
   "metadata": {},
   "outputs": [
    {
     "name": "stdout",
     "output_type": "stream",
     "text": [
      "[]\n"
     ]
    }
   ],
   "source": [
    "# Print title of the webpage\n",
    "print(soup.title())"
   ]
  },
  {
   "cell_type": "code",
   "execution_count": 23,
   "id": "8afa0731",
   "metadata": {},
   "outputs": [
    {
     "data": {
      "text/plain": [
       "<title>Guido's Personal Home Page</title>"
      ]
     },
     "execution_count": 23,
     "metadata": {},
     "output_type": "execute_result"
    }
   ],
   "source": [
    "guide_title=soup.title\n",
    "guide_title"
   ]
  },
  {
   "cell_type": "code",
   "execution_count": 24,
   "id": "86391dc9",
   "metadata": {},
   "outputs": [
    {
     "name": "stdout",
     "output_type": "stream",
     "text": [
      "\n",
      "\n",
      "Guido's Personal Home Page\n",
      "\n",
      "\n",
      "\n",
      "\n",
      "\n",
      "Guido van Rossum - Personal Home Page\n",
      "\n",
      "\n",
      "\"Gawky and proud of it.\"\n",
      "Who I Am\n",
      "Read\n",
      "my \"King's\n",
      "Day Speech\" for some inspiration.\n",
      "\n",
      "I am the author of the Python\n",
      "programming language.  See also my resume\n",
      "and my publications list, a brief bio, assorted writings, presentations and interviews (all about Python), some\n",
      "pictures of me,\n",
      "my new blog, and\n",
      "my old\n",
      "blog on Artima.com.  I am\n",
      "@gvanrossum on Twitter.\n",
      "\n",
      "I am currently a Distinguished Engineer at Microsoft.\n",
      "I have worked for Dropbox, Google, Elemental Security, Zope\n",
      "Corporation, BeOpen.com, CNRI, CWI, and SARA.  (See\n",
      "my resume.)  I created Python while at CWI.\n",
      "\n",
      "How to Reach Me\n",
      "You can send email for me to guido (at) python.org.\n",
      "I read everything sent there, but I receive too much email to respond\n",
      "to everything.\n",
      "\n",
      "My Name\n",
      "My name often poses difficulties for Americans.\n",
      "\n",
      "Pronunciation: in Dutch, the \"G\" in Guido is a hard G,\n",
      "pronounced roughly like the \"ch\" in Scottish \"loch\".  (Listen to the\n",
      "sound clip.)  However, if you're\n",
      "American, you may also pronounce it as the Italian \"Guido\".  I'm not\n",
      "too worried about the associations with mob assassins that some people\n",
      "have. :-)\n",
      "\n",
      "Spelling: my last name is two words, and I'd like to keep it\n",
      "that way, the spelling on some of my credit cards notwithstanding.\n",
      "Dutch spelling rules dictate that when used in combination with my\n",
      "first name, \"van\" is not capitalized: \"Guido van Rossum\".  But when my\n",
      "last name is used alone to refer to me, it is capitalized, for\n",
      "example: \"As usual, Van Rossum was right.\"\n",
      "\n",
      "Alphabetization: in America, I show up in the alphabet under\n",
      "\"V\".  But in Europe, I show up under \"R\".  And some of my friends put\n",
      "me under \"G\" in their address book...\n",
      "\n",
      "\n",
      "More Hyperlinks\n",
      "\n",
      "Here's a collection of essays relating to Python\n",
      "that I've written, including the foreword I wrote for Mark Lutz' book\n",
      "\"Programming Python\".\n",
      "I own the official \n",
      "Python license.\n",
      "\n",
      "The Audio File Formats FAQ\n",
      "I was the original creator and maintainer of the Audio File Formats\n",
      "FAQ.  It is now maintained by Chris Bagwell\n",
      "at http://www.cnpbagwell.com/audio-faq.  And here is a link to\n",
      "SOX, to which I contributed\n",
      "some early code.\n",
      "\n",
      "\n",
      "\n",
      "\n",
      "\"On the Internet, nobody knows you're\n",
      "a dog.\"\n",
      "\n",
      "\n",
      "\n"
     ]
    }
   ],
   "source": [
    "# Extracting text from beautiful soup element\n",
    "print(soup.get_text())"
   ]
  },
  {
   "cell_type": "code",
   "execution_count": 25,
   "id": "288b8183",
   "metadata": {},
   "outputs": [
    {
     "data": {
      "text/plain": [
       "'\\n\\nGuido\\'s Personal Home Page\\n\\n\\n\\n\\n\\nGuido van Rossum - Personal Home Page\\n\\n\\n\"Gawky and proud of it.\"\\nWho I Am\\nRead\\nmy \"King\\'s\\nDay Speech\" for some inspiration.\\n\\nI am the author of the Python\\nprogramming language.  See also my resume\\nand my publications list, a brief bio, assorted writings, presentations and interviews (all about Python), some\\npictures of me,\\nmy new blog, and\\nmy old\\nblog on Artima.com.  I am\\n@gvanrossum on Twitter.\\n\\nI am currently a Distinguished Engineer at Microsoft.\\nI have worked for Dropbox, Google, Elemental Security, Zope\\nCorporation, BeOpen.com, CNRI, CWI, and SARA.  (See\\nmy resume.)  I created Python while at CWI.\\n\\nHow to Reach Me\\nYou can send email for me to guido (at) python.org.\\nI read everything sent there, but I receive too much email to respond\\nto everything.\\n\\nMy Name\\nMy name often poses difficulties for Americans.\\n\\nPronunciation: in Dutch, the \"G\" in Guido is a hard G,\\npronounced roughly like the \"ch\" in Scottish \"loch\".  (Listen to the\\nsound clip.)  However, if you\\'re\\nAmerican, you may also pronounce it as the Italian \"Guido\".  I\\'m not\\ntoo worried about the associations with mob assassins that some people\\nhave. :-)\\n\\nSpelling: my last name is two words, and I\\'d like to keep it\\nthat way, the spelling on some of my credit cards notwithstanding.\\nDutch spelling rules dictate that when used in combination with my\\nfirst name, \"van\" is not capitalized: \"Guido van Rossum\".  But when my\\nlast name is used alone to refer to me, it is capitalized, for\\nexample: \"As usual, Van Rossum was right.\"\\n\\nAlphabetization: in America, I show up in the alphabet under\\n\"V\".  But in Europe, I show up under \"R\".  And some of my friends put\\nme under \"G\" in their address book...\\n\\n\\nMore Hyperlinks\\n\\nHere\\'s a collection of essays relating to Python\\nthat I\\'ve written, including the foreword I wrote for Mark Lutz\\' book\\n\"Programming Python\".\\nI own the official \\nPython license.\\n\\nThe Audio File Formats FAQ\\nI was the original creator and maintainer of the Audio File Formats\\nFAQ.  It is now maintained by Chris Bagwell\\nat http://www.cnpbagwell.com/audio-faq.  And here is a link to\\nSOX, to which I contributed\\nsome early code.\\n\\n\\n\\n\\n\"On the Internet, nobody knows you\\'re\\na dog.\"\\n\\n\\n'"
      ]
     },
     "execution_count": 25,
     "metadata": {},
     "output_type": "execute_result"
    }
   ],
   "source": [
    "guido_text=soup.get_text()\n",
    "guido_text"
   ]
  },
  {
   "cell_type": "code",
   "execution_count": 28,
   "id": "600846c1",
   "metadata": {},
   "outputs": [
    {
     "name": "stdout",
     "output_type": "stream",
     "text": [
      "[<a href=\"pics.html\"><img border=\"0\" src=\"images/IMG_2192.jpg\"/></a>, <a href=\"pics.html\"><img border=\"0\" height=\"216\" src=\"images/guido-headshot-2019.jpg\" width=\"270\"/></a>, <a href=\"http://www.washingtonpost.com/wp-srv/business/longterm/microsoft/stories/1998/raymond120398.htm\"><i>\"Gawky and proud of it.\"</i></a>, <a href=\"images/df20000406.jpg\">Who I Am</a>, <a href=\"http://neopythonic.blogspot.com/2016/04/kings-day-speech.html\">\"King's\n",
      "Day Speech\"</a>, <a href=\"http://www.python.org\">Python</a>, <a href=\"Resume.html\">resume</a>, <a href=\"Publications.html\">publications list</a>, <a href=\"bio.html\">brief bio</a>, <a href=\"http://legacy.python.org/doc/essays/\">writings</a>, <a href=\"http://legacy.python.org/doc/essays/ppt/\">presentations</a>, <a href=\"interviews.html\">interviews</a>, <a href=\"pics.html\">pictures of me</a>, <a href=\"http://neopythonic.blogspot.com\">my new blog</a>, <a href=\"http://www.artima.com/weblogs/index.jsp?blogger=12088\">old\n",
      "blog</a>, <a href=\"https://twitter.com/gvanrossum\">@gvanrossum</a>, <a href=\"Resume.html\">resume</a>, <a href=\"guido.au\">sound clip</a>, <a href=\"http://legacy.python.org/doc/essays/\">essays</a>, <a href=\"images/license.jpg\"><img align=\"center\" border=\"0\" height=\"75\" src=\"images/license_thumb.jpg\" width=\"100\"/>\n",
      "Python license.</a>, <a href=\"http://www.cnpbagwell.com/audio-faq\">http://www.cnpbagwell.com/audio-faq</a>, <a href=\"http://sox.sourceforge.net/\">SOX</a>, <a href=\"images/internetdog.gif\">\"On the Internet, nobody knows you're\n",
      "a dog.\"</a>]\n"
     ]
    }
   ],
   "source": [
    "# Find 'a' tags in HTML --- a tags contains the hyperlinks-\n",
    "print(soup.find_all('a'))"
   ]
  },
  {
   "cell_type": "code",
   "execution_count": 30,
   "id": "5089f4a9",
   "metadata": {},
   "outputs": [
    {
     "data": {
      "text/plain": [
       "[<a href=\"pics.html\"><img border=\"0\" src=\"images/IMG_2192.jpg\"/></a>,\n",
       " <a href=\"pics.html\"><img border=\"0\" height=\"216\" src=\"images/guido-headshot-2019.jpg\" width=\"270\"/></a>,\n",
       " <a href=\"http://www.washingtonpost.com/wp-srv/business/longterm/microsoft/stories/1998/raymond120398.htm\"><i>\"Gawky and proud of it.\"</i></a>,\n",
       " <a href=\"images/df20000406.jpg\">Who I Am</a>,\n",
       " <a href=\"http://neopythonic.blogspot.com/2016/04/kings-day-speech.html\">\"King's\n",
       " Day Speech\"</a>,\n",
       " <a href=\"http://www.python.org\">Python</a>,\n",
       " <a href=\"Resume.html\">resume</a>,\n",
       " <a href=\"Publications.html\">publications list</a>,\n",
       " <a href=\"bio.html\">brief bio</a>,\n",
       " <a href=\"http://legacy.python.org/doc/essays/\">writings</a>,\n",
       " <a href=\"http://legacy.python.org/doc/essays/ppt/\">presentations</a>,\n",
       " <a href=\"interviews.html\">interviews</a>,\n",
       " <a href=\"pics.html\">pictures of me</a>,\n",
       " <a href=\"http://neopythonic.blogspot.com\">my new blog</a>,\n",
       " <a href=\"http://www.artima.com/weblogs/index.jsp?blogger=12088\">old\n",
       " blog</a>,\n",
       " <a href=\"https://twitter.com/gvanrossum\">@gvanrossum</a>,\n",
       " <a href=\"Resume.html\">resume</a>,\n",
       " <a href=\"guido.au\">sound clip</a>,\n",
       " <a href=\"http://legacy.python.org/doc/essays/\">essays</a>,\n",
       " <a href=\"images/license.jpg\"><img align=\"center\" border=\"0\" height=\"75\" src=\"images/license_thumb.jpg\" width=\"100\"/>\n",
       " Python license.</a>,\n",
       " <a href=\"http://www.cnpbagwell.com/audio-faq\">http://www.cnpbagwell.com/audio-faq</a>,\n",
       " <a href=\"http://sox.sourceforge.net/\">SOX</a>,\n",
       " <a href=\"images/internetdog.gif\">\"On the Internet, nobody knows you're\n",
       " a dog.\"</a>]"
      ]
     },
     "execution_count": 30,
     "metadata": {},
     "output_type": "execute_result"
    }
   ],
   "source": [
    "a_tags=soup.find_all('a')\n",
    "a_tags"
   ]
  },
  {
   "cell_type": "code",
   "execution_count": 34,
   "id": "d164282a",
   "metadata": {},
   "outputs": [
    {
     "name": "stdout",
     "output_type": "stream",
     "text": [
      "pics.html\n",
      "pics.html\n",
      "http://www.washingtonpost.com/wp-srv/business/longterm/microsoft/stories/1998/raymond120398.htm\n",
      "images/df20000406.jpg\n",
      "http://neopythonic.blogspot.com/2016/04/kings-day-speech.html\n",
      "http://www.python.org\n",
      "Resume.html\n",
      "Publications.html\n",
      "bio.html\n",
      "http://legacy.python.org/doc/essays/\n",
      "http://legacy.python.org/doc/essays/ppt/\n",
      "interviews.html\n",
      "pics.html\n",
      "http://neopythonic.blogspot.com\n",
      "http://www.artima.com/weblogs/index.jsp?blogger=12088\n",
      "https://twitter.com/gvanrossum\n",
      "Resume.html\n",
      "guido.au\n",
      "http://legacy.python.org/doc/essays/\n",
      "images/license.jpg\n",
      "http://www.cnpbagwell.com/audio-faq\n",
      "http://sox.sourceforge.net/\n",
      "images/internetdog.gif\n"
     ]
    }
   ],
   "source": [
    "# To get all links from the webpage as list\n",
    "for x in a_tags:\n",
    "    print(x.get('href'))"
   ]
  },
  {
   "cell_type": "code",
   "execution_count": 27,
   "id": "47fed244",
   "metadata": {},
   "outputs": [
    {
     "data": {
      "text/plain": [
       "()"
      ]
     },
     "execution_count": 27,
     "metadata": {},
     "output_type": "execute_result"
    }
   ],
   "source": []
  },
  {
   "cell_type": "code",
   "execution_count": null,
   "id": "1ca7d1c5",
   "metadata": {},
   "outputs": [],
   "source": []
  }
 ],
 "metadata": {
  "kernelspec": {
   "display_name": "Python 3 (ipykernel)",
   "language": "python",
   "name": "python3"
  },
  "language_info": {
   "codemirror_mode": {
    "name": "ipython",
    "version": 3
   },
   "file_extension": ".py",
   "mimetype": "text/x-python",
   "name": "python",
   "nbconvert_exporter": "python",
   "pygments_lexer": "ipython3",
   "version": "3.10.9"
  }
 },
 "nbformat": 4,
 "nbformat_minor": 5
}
